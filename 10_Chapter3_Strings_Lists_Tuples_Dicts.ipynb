{
 "cells": [
  {
   "cell_type": "markdown",
   "metadata": {},
   "source": [
    "# strings, lists, tuples, and maps (dicts)\n",
    "\n",
    "In this chapter, we’ll work with some other items in Python programs: strings, lists, tuples, and maps. You’ll use strings to display messages in your programs (such as “Get Ready” and “Game Over” messages in a game). You’ll also discover how lists, tuples, and maps are used to store collections of things. \n",
    "\n",
    "## Strings\n",
    "\n",
    "When programming, we usually call text a string. Think of a string as a collection of letters, and the term makes sense. All the letters, numbers, and symbols in this book could be a string, and so could your name and address. In fact, the first Python program we created in Chapter 1 used a string: “Hello World.”\n",
    "\n",
    "### Creating Strings\n",
    "\n",
    "In Python, we create a string by putting quotes around text because program- ming languages need to distinguish between different types of values. (We need to tell the computer whether a value is a number, a string, or something else.) For example, we could take our fred variable from Chapter 2 and use it to label a string:\n",
    "\n"
   ]
  },
  {
   "cell_type": "code",
   "execution_count": 1,
   "metadata": {
    "collapsed": true
   },
   "outputs": [],
   "source": [
    "fred = \"Why do gorillas have big nostrils? Big fingers!!\""
   ]
  },
  {
   "cell_type": "markdown",
   "metadata": {},
   "source": [
    "Then, to see what’s inside fred, we could enter print(fred):\n"
   ]
  },
  {
   "cell_type": "code",
   "execution_count": 2,
   "metadata": {},
   "outputs": [
    {
     "name": "stdout",
     "output_type": "stream",
     "text": [
      "Why do gorillas have big nostrils? Big fingers!!\n"
     ]
    }
   ],
   "source": [
    "print(fred)"
   ]
  },
  {
   "cell_type": "markdown",
   "metadata": {},
   "source": [
    "You can also use single quotes to create a string, like this:"
   ]
  },
  {
   "cell_type": "code",
   "execution_count": 3,
   "metadata": {},
   "outputs": [
    {
     "name": "stdout",
     "output_type": "stream",
     "text": [
      "What is pink and fluffy? Pink fluff!!\n"
     ]
    }
   ],
   "source": [
    "fred = 'What is pink and fluffy? Pink fluff!!'\n",
    "print(fred)"
   ]
  },
  {
   "cell_type": "markdown",
   "metadata": {},
   "source": [
    "However, if you try to enter more than one line of text for your string using only a single ( ') or double quote (\") or if you start with one type of quote and finish with another, you’ll get an error message in the Python shell. For example, enter the following line: "
   ]
  },
  {
   "cell_type": "code",
   "execution_count": 6,
   "metadata": {},
   "outputs": [
    {
     "ename": "SyntaxError",
     "evalue": "EOL while scanning string literal (<ipython-input-6-5638b6c8f5c0>, line 1)",
     "output_type": "error",
     "traceback": [
      "\u001b[0;36m  File \u001b[0;32m\"<ipython-input-6-5638b6c8f5c0>\"\u001b[0;36m, line \u001b[0;32m1\u001b[0m\n\u001b[0;31m    fred = \"How do dinosaurs pay their bills\u001b[0m\n\u001b[0m                                            ^\u001b[0m\n\u001b[0;31mSyntaxError\u001b[0m\u001b[0;31m:\u001b[0m EOL while scanning string literal\n"
     ]
    }
   ],
   "source": [
    "fred = \"How do dinosaurs pay their bills"
   ]
  },
  {
   "cell_type": "markdown",
   "metadata": {},
   "source": [
    "This is an error message complaining about syntax because you did not follow the rules for ending a string with a single or double quote.\n",
    "\n",
    "Syntax means the arrangement and order of words in a sen- tence or, in this case, the arrangement and order of words and symbols in a program. So SyntaxError means that you did something in an order Python was not expecting, or Python was expecting something that you missed. EOL means end-of-line, so the rest of the error message is telling you that Python hit the end of the line and did not find a double quote to close the string.\n",
    "\n",
    "To use more than one line of text in your string (called a multiline string), use three single quotes ( '''), and then hit enter between lines, like this:\n"
   ]
  },
  {
   "cell_type": "code",
   "execution_count": 7,
   "metadata": {},
   "outputs": [
    {
     "name": "stdout",
     "output_type": "stream",
     "text": [
      "How do dinosaurs pay their bills?\n",
      "With tyrannosaurus checks!\n"
     ]
    }
   ],
   "source": [
    "fred = '''How do dinosaurs pay their bills?\n",
    "With tyrannosaurus checks!'''\n",
    "print(fred)"
   ]
  },
  {
   "cell_type": "markdown",
   "metadata": {},
   "source": [
    "### Handling Problems with Strings\n",
    "\n",
    "Now consider this crazy example of a string, which causes Python to display an error message:\n"
   ]
  },
  {
   "cell_type": "code",
   "execution_count": 9,
   "metadata": {},
   "outputs": [
    {
     "ename": "SyntaxError",
     "evalue": "invalid syntax (<ipython-input-9-bd5c5f6bf90b>, line 1)",
     "output_type": "error",
     "traceback": [
      "\u001b[0;36m  File \u001b[0;32m\"<ipython-input-9-bd5c5f6bf90b>\"\u001b[0;36m, line \u001b[0;32m1\u001b[0m\n\u001b[0;31m    silly_string = 'He said, \"Aren't can't shouldn't wouldn't.\"'\u001b[0m\n\u001b[0m                                   ^\u001b[0m\n\u001b[0;31mSyntaxError\u001b[0m\u001b[0;31m:\u001b[0m invalid syntax\n"
     ]
    }
   ],
   "source": [
    "silly_string = 'He said, \"Aren't can't shouldn't wouldn't.\"'"
   ]
  },
  {
   "cell_type": "markdown",
   "metadata": {},
   "source": [
    "In the first line, we try to create a string (defined as the vari- able silly_string) enclosed by single quotes, but also containing a mixture of single quotes in the words can't, shouldn't, and wouldn't, as well as double quotes. What a mess!\n",
    "\n",
    "Remember that Python itself is not as smart as a human being, so all it sees is a string containing He said, \"Aren, followed by a bunch of other characters that it doesn’t expect. When Python sees a quotation mark (either a single or double quote), it expects a string to start following the first mark and the string to end after the next matching quotation mark (either single or double) on that line. In this case, the start of the string is the single quotation mark before He, and the end of the string, as far as Python is concerned, is the single quote after the n in Aren. The solution to this problem is a multiline string, which we learned about earlier, using three single quotes ( '''), which allows us to combine double and single quotes in our string without causing errors. In fact, if we use three single quotes, we can put any combination of single and double quotes inside the string (as long as we don’t try to put three single quotes there). This is what the error-free version of our string looks like:\n"
   ]
  },
  {
   "cell_type": "code",
   "execution_count": 10,
   "metadata": {
    "collapsed": true
   },
   "outputs": [],
   "source": [
    "silly_string = '''He said, \"Aren't can't shouldn't wouldn't.\"'''"
   ]
  },
  {
   "cell_type": "code",
   "execution_count": 11,
   "metadata": {},
   "outputs": [
    {
     "name": "stdout",
     "output_type": "stream",
     "text": [
      "He said, \"Aren't can't shouldn't wouldn't.\"\n"
     ]
    }
   ],
   "source": [
    "print(silly_string)"
   ]
  },
  {
   "cell_type": "markdown",
   "metadata": {},
   "source": [
    "But wait, there’s more. If you really want to use single or dou- ble quotes to surround a string in Python, instead of three single quotes, you can add a backslash (\\) before each quotation mark within the string. This is called escaping. It’s a way of saying to Python, “Yes, I know I have quotes inside my string, and I want you to ignore them until you see the end quote.”\n",
    "\n",
    "Escaping strings can make them harder to read, so it’s prob- ably better to use multiline strings. Still, you might come across snippets of code that use escaping, so it’s good to know why the backslashes are there.\n",
    "\n",
    "Here are a few examples of how escaping works:"
   ]
  },
  {
   "cell_type": "code",
   "execution_count": 12,
   "metadata": {},
   "outputs": [
    {
     "name": "stdout",
     "output_type": "stream",
     "text": [
      "He said, \"Aren't can't shouldn't wouldn't.\"\n"
     ]
    }
   ],
   "source": [
    "single_quote_str = 'He said, \"Aren\\'t can\\'t shouldn\\'t wouldn\\'t.\"'\n",
    "double_quote_str = \"He said, \\\"Aren't can't shouldn't wouldn't.\\\"\"\n",
    "print(single_quote_str)\n"
   ]
  },
  {
   "cell_type": "code",
   "execution_count": 13,
   "metadata": {},
   "outputs": [
    {
     "name": "stdout",
     "output_type": "stream",
     "text": [
      "He said, \"Aren't can't shouldn't wouldn't.\"\n"
     ]
    }
   ],
   "source": [
    "print(double_quote_str)"
   ]
  },
  {
   "cell_type": "markdown",
   "metadata": {},
   "source": [
    "First, at 1, we create a string with single quotes, using the backslash in front of the single quotes inside that string. At 2, we create a string with double quotes, and use the backslash in front of those quotes in the string. In the lines that follow, we print the variables we’ve just created. Notice that the backslash character doesn’t appear in the strings when we print them. "
   ]
  },
  {
   "cell_type": "markdown",
   "metadata": {},
   "source": [
    "### Embedding Values in Strings\n",
    "\n",
    "If you want to display a message using the contents of a variable, you can embed values in a string using %s, which is like a marker for a value that you want to add later. (Embedding values, also referred to as string substitution, is programmer-speak for “insert- ing values.”) For example, to have Python calculate or store the number of points you scored in a game, and then add it to a sen- tence like “I scored points,” use %s in the sentence in place of the value, and then tell Python that value, like this:\n"
   ]
  },
  {
   "cell_type": "code",
   "execution_count": 6,
   "metadata": {},
   "outputs": [
    {
     "name": "stdout",
     "output_type": "stream",
     "text": [
      "I scored 1000 points\n",
      "I scored 1000 points\n"
     ]
    }
   ],
   "source": [
    "myscore = 1000\n",
    "message = 'I scored %s points'\n",
    "#both approaches work\n",
    "print(message % (myscore))\n",
    "print(message % myscore)\n"
   ]
  },
  {
   "cell_type": "markdown",
   "metadata": {},
   "source": [
    "Multiple replacements can be made as shown below"
   ]
  },
  {
   "cell_type": "code",
   "execution_count": 3,
   "metadata": {},
   "outputs": [
    {
     "name": "stdout",
     "output_type": "stream",
     "text": [
      "I scored 1000 points. It took me 5 attempts\n"
     ]
    }
   ],
   "source": [
    "myscore = 1000\n",
    "attempts = 5\n",
    "message = 'I scored %s points. It took me %s attempts'\n",
    "print(message % (myscore, attempts))"
   ]
  },
  {
   "cell_type": "markdown",
   "metadata": {
    "collapsed": true
   },
   "source": [
    "### Multiplying Strings\n",
    "\n",
    "What is 10 multiplied by 5? The answer is 50, of course. But what’s 10 multiplied by a? Here’s Python’s answer:\n"
   ]
  },
  {
   "cell_type": "code",
   "execution_count": 7,
   "metadata": {},
   "outputs": [
    {
     "name": "stdout",
     "output_type": "stream",
     "text": [
      "aaaaaaaaaa\n"
     ]
    }
   ],
   "source": [
    "print(10 * 'a')\n"
   ]
  },
  {
   "cell_type": "markdown",
   "metadata": {},
   "source": [
    "Python programmers might use this approach to line up strings with a specific number of spaces when displaying messages in the shell, for example. \n"
   ]
  },
  {
   "cell_type": "code",
   "execution_count": 8,
   "metadata": {},
   "outputs": [
    {
     "name": "stdout",
     "output_type": "stream",
     "text": [
      "                          12 Butts Wynd\n",
      "                          Twinklebottom Heath\n",
      "                          West Snoring\n",
      "\n",
      "\n",
      "Dear Sir\n",
      "\n",
      "I wish to report that tiles are missing from the\n",
      "outside toilet roof.\n",
      "I think it was bad wind the other night that blew them away.\n",
      "\n",
      "Regards\n",
      "Malcolm Dithering\n"
     ]
    }
   ],
   "source": [
    "spaces = ' ' * 25\n",
    "print('%s 12 Butts Wynd' % spaces)\n",
    "print('%s Twinklebottom Heath' % spaces)\n",
    "print('%s West Snoring' % spaces)\n",
    "print()\n",
    "print()\n",
    "print('Dear Sir')\n",
    "print()\n",
    "print('I wish to report that tiles are missing from the')\n",
    "print('outside toilet roof.')\n",
    "print('I think it was bad wind the other night that blew them away.')\n",
    "print()\n",
    "print('Regards')\n",
    "print('Malcolm Dithering')\n"
   ]
  },
  {
   "cell_type": "markdown",
   "metadata": {},
   "source": [
    "In addition to using multiplication for alignment, we can also use it to fill the screen with annoying messages. Try this example for yourself:\n"
   ]
  },
  {
   "cell_type": "code",
   "execution_count": 9,
   "metadata": {},
   "outputs": [
    {
     "name": "stdout",
     "output_type": "stream",
     "text": [
      "snirtsnirtsnirtsnirtsnirtsnirtsnirtsnirtsnirtsnirtsnirtsnirtsnirtsnirtsnirtsnirtsnirtsnirtsnirtsnirtsnirtsnirtsnirtsnirtsnirtsnirtsnirtsnirtsnirtsnirtsnirtsnirtsnirtsnirtsnirtsnirtsnirtsnirtsnirtsnirtsnirtsnirtsnirtsnirtsnirtsnirtsnirtsnirtsnirtsnirtsnirtsnirtsnirtsnirtsnirtsnirtsnirtsnirtsnirtsnirtsnirtsnirtsnirtsnirtsnirtsnirtsnirtsnirtsnirtsnirtsnirtsnirtsnirtsnirtsnirtsnirtsnirtsnirtsnirtsnirtsnirtsnirtsnirtsnirtsnirtsnirtsnirtsnirtsnirtsnirtsnirtsnirtsnirtsnirtsnirtsnirtsnirtsnirtsnirtsnirtsnirtsnirtsnirtsnirtsnirtsnirtsnirtsnirtsnirtsnirtsnirtsnirtsnirtsnirtsnirtsnirtsnirtsnirtsnirtsnirtsnirtsnirtsnirtsnirtsnirtsnirtsnirtsnirtsnirtsnirtsnirtsnirtsnirtsnirtsnirtsnirtsnirtsnirtsnirtsnirtsnirtsnirtsnirtsnirtsnirtsnirtsnirtsnirtsnirtsnirtsnirtsnirtsnirtsnirtsnirtsnirtsnirtsnirtsnirtsnirtsnirtsnirtsnirtsnirtsnirtsnirtsnirtsnirtsnirtsnirtsnirtsnirtsnirtsnirtsnirtsnirtsnirtsnirtsnirtsnirtsnirtsnirtsnirtsnirtsnirtsnirtsnirtsnirtsnirtsnirtsnirtsnirtsnirtsnirtsnirtsnirtsnirtsnirtsnirtsnirtsnirtsnirtsnirtsnirtsnirtsnirtsnirtsnirtsnirtsnirtsnirtsnirtsnirtsnirtsnirtsnirtsnirtsnirtsnirtsnirtsnirtsnirtsnirtsnirtsnirtsnirtsnirtsnirtsnirtsnirtsnirtsnirtsnirtsnirtsnirtsnirtsnirtsnirtsnirtsnirtsnirtsnirtsnirtsnirtsnirtsnirtsnirtsnirtsnirtsnirtsnirtsnirtsnirtsnirtsnirtsnirtsnirtsnirtsnirtsnirtsnirtsnirtsnirtsnirtsnirtsnirtsnirtsnirtsnirtsnirtsnirtsnirtsnirtsnirtsnirtsnirtsnirtsnirtsnirtsnirtsnirtsnirtsnirtsnirtsnirtsnirtsnirtsnirtsnirtsnirtsnirtsnirtsnirtsnirtsnirtsnirtsnirtsnirtsnirtsnirtsnirtsnirtsnirtsnirtsnirtsnirtsnirtsnirtsnirtsnirtsnirtsnirtsnirtsnirtsnirtsnirtsnirtsnirtsnirtsnirtsnirtsnirtsnirtsnirtsnirtsnirtsnirtsnirtsnirtsnirtsnirtsnirtsnirtsnirtsnirtsnirtsnirtsnirtsnirtsnirtsnirtsnirtsnirtsnirtsnirtsnirtsnirtsnirtsnirtsnirtsnirtsnirtsnirtsnirtsnirtsnirtsnirtsnirtsnirtsnirtsnirtsnirtsnirtsnirtsnirtsnirtsnirtsnirtsnirtsnirtsnirtsnirtsnirtsnirtsnirtsnirtsnirtsnirtsnirtsnirtsnirtsnirtsnirtsnirtsnirtsnirtsnirtsnirtsnirtsnirtsnirtsnirtsnirtsnirtsnirtsnirtsnirtsnirtsnirtsnirtsnirtsnirtsnirtsnirtsnirtsnirtsnirtsnirtsnirtsnirtsnirtsnirtsnirtsnirtsnirtsnirtsnirtsnirtsnirtsnirtsnirtsnirtsnirtsnirtsnirtsnirtsnirtsnirtsnirtsnirtsnirtsnirtsnirtsnirtsnirtsnirtsnirtsnirtsnirtsnirtsnirtsnirtsnirtsnirtsnirtsnirtsnirtsnirtsnirtsnirtsnirtsnirtsnirtsnirtsnirtsnirtsnirtsnirtsnirtsnirtsnirtsnirtsnirtsnirtsnirtsnirtsnirtsnirtsnirtsnirtsnirtsnirtsnirtsnirtsnirtsnirtsnirtsnirtsnirtsnirtsnirtsnirtsnirtsnirtsnirtsnirtsnirtsnirtsnirtsnirtsnirtsnirtsnirtsnirtsnirtsnirtsnirtsnirtsnirtsnirtsnirtsnirtsnirtsnirtsnirtsnirtsnirtsnirtsnirtsnirtsnirtsnirtsnirtsnirtsnirtsnirtsnirtsnirtsnirtsnirtsnirtsnirtsnirtsnirtsnirtsnirtsnirtsnirtsnirtsnirtsnirtsnirtsnirtsnirtsnirtsnirtsnirtsnirtsnirtsnirtsnirtsnirtsnirtsnirtsnirtsnirtsnirtsnirtsnirtsnirtsnirtsnirtsnirtsnirtsnirtsnirtsnirtsnirtsnirtsnirtsnirtsnirtsnirtsnirtsnirtsnirtsnirtsnirtsnirtsnirtsnirtsnirtsnirtsnirtsnirtsnirtsnirtsnirtsnirtsnirtsnirtsnirtsnirtsnirtsnirtsnirtsnirtsnirtsnirtsnirtsnirtsnirtsnirtsnirtsnirtsnirtsnirtsnirtsnirtsnirtsnirtsnirtsnirtsnirtsnirtsnirtsnirtsnirtsnirtsnirtsnirtsnirtsnirtsnirtsnirtsnirtsnirtsnirtsnirtsnirtsnirtsnirtsnirtsnirtsnirtsnirtsnirtsnirtsnirtsnirtsnirtsnirtsnirtsnirtsnirtsnirtsnirtsnirtsnirtsnirtsnirtsnirtsnirtsnirtsnirtsnirtsnirtsnirtsnirtsnirtsnirtsnirtsnirtsnirtsnirtsnirtsnirtsnirtsnirtsnirtsnirtsnirtsnirtsnirtsnirtsnirtsnirtsnirtsnirtsnirtsnirtsnirtsnirtsnirtsnirtsnirtsnirtsnirtsnirtsnirtsnirtsnirtsnirtsnirtsnirtsnirtsnirtsnirtsnirtsnirtsnirtsnirtsnirtsnirtsnirtsnirtsnirtsnirtsnirtsnirtsnirtsnirtsnirtsnirtsnirtsnirtsnirtsnirtsnirtsnirtsnirtsnirtsnirtsnirtsnirtsnirtsnirtsnirtsnirtsnirtsnirtsnirtsnirtsnirtsnirtsnirtsnirtsnirtsnirtsnirtsnirtsnirtsnirtsnirtsnirtsnirtsnirtsnirtsnirtsnirtsnirtsnirtsnirtsnirtsnirtsnirtsnirtsnirtsnirtsnirtsnirtsnirtsnirtsnirtsnirtsnirtsnirtsnirtsnirtsnirtsnirtsnirtsnirtsnirtsnirtsnirtsnirtsnirtsnirtsnirtsnirtsnirtsnirtsnirtsnirtsnirtsnirtsnirtsnirtsnirtsnirtsnirtsnirtsnirtsnirtsnirtsnirtsnirtsnirtsnirtsnirtsnirtsnirtsnirtsnirtsnirtsnirtsnirtsnirtsnirtsnirtsnirtsnirtsnirtsnirtsnirtsnirtsnirtsnirtsnirtsnirtsnirtsnirtsnirtsnirtsnirtsnirtsnirtsnirtsnirtsnirtsnirtsnirtsnirtsnirtsnirtsnirtsnirtsnirtsnirtsnirtsnirtsnirtsnirtsnirtsnirtsnirtsnirtsnirtsnirtsnirtsnirtsnirtsnirtsnirtsnirtsnirtsnirtsnirtsnirtsnirtsnirtsnirtsnirtsnirtsnirtsnirtsnirtsnirtsnirtsnirtsnirtsnirtsnirtsnirtsnirtsnirtsnirtsnirtsnirtsnirtsnirtsnirtsnirtsnirtsnirtsnirtsnirtsnirtsnirtsnirtsnirtsnirtsnirtsnirtsnirtsnirtsnirtsnirtsnirtsnirtsnirtsnirtsnirtsnirtsnirtsnirtsnirtsnirtsnirtsnirtsnirtsnirtsnirtsnirtsnirtsnirtsnirtsnirtsnirtsnirtsnirtsnirtsnirtsnirtsnirtsnirtsnirtsnirtsnirtsnirtsnirtsnirtsnirtsnirtsnirtsnirtsnirtsnirtsnirtsnirtsnirtsnirtsnirtsnirtsnirtsnirtsnirtsnirtsnirtsnirtsnirtsnirtsnirtsnirtsnirtsnirtsnirtsnirtsnirtsnirtsnirtsnirtsnirtsnirtsnirtsnirtsnirtsnirtsnirtsnirtsnirtsnirtsnirtsnirtsnirtsnirtsnirtsnirtsnirtsnirtsnirtsnirtsnirtsnirtsnirtsnirtsnirtsnirtsnirtsnirtsnirtsnirtsnirtsnirtsnirtsnirtsnirtsnirtsnirtsnirtsnirtsnirtsnirtsnirtsnirtsnirtsnirtsnirtsnirt\n"
     ]
    }
   ],
   "source": [
    "print(1000 * 'snirt')\n"
   ]
  },
  {
   "cell_type": "markdown",
   "metadata": {},
   "source": [
    "##  Lists Are More Powerful than Strings\n",
    "\n",
    "“Spider legs, toe of frog, eye of newt, bat wing, slug butter, and snake dandruff ” is not quite a normal shopping list (unless you happen to be a wizard), but we’ll use it as our first example of the differences between strings and lists.\n",
    "\n",
    "We could store this list of items in the wizard_list variable using a string like this:\n"
   ]
  },
  {
   "cell_type": "code",
   "execution_count": 11,
   "metadata": {},
   "outputs": [
    {
     "name": "stdout",
     "output_type": "stream",
     "text": [
      "spider legs, toe of frog, eye of newt, bat wing, slug butter, snake dandruff\n"
     ]
    }
   ],
   "source": [
    "wizard_list = 'spider legs, toe of frog, eye of newt, bat wing, slug butter, snake dandruff'\n",
    "print(wizard_list)\n"
   ]
  },
  {
   "cell_type": "markdown",
   "metadata": {},
   "source": [
    "But we could also create a list, a somewhat magical kind of Python object that we can manipulate. Here’s what these items would look like written as a list:\n"
   ]
  },
  {
   "cell_type": "code",
   "execution_count": 16,
   "metadata": {},
   "outputs": [
    {
     "name": "stdout",
     "output_type": "stream",
     "text": [
      "['spider legs', 'toe of frog', 'eye of newt', 'bat wing', 'slug butter', 'snake dandruff']\n"
     ]
    }
   ],
   "source": [
    "wizard_list = ['spider legs', 'toe of frog', 'eye of newt','bat wing', 'slug butter', 'snake dandruff']\n",
    "print(wizard_list)\n"
   ]
  },
  {
   "cell_type": "markdown",
   "metadata": {},
   "source": [
    "Creating a list takes a bit more typing than creating a string, but a list is more useful than a string because it can be manipulated. For example, we could print the third item in the wizard_list (eye of newt) by entering its position in the list (called the index position) inside square brackets ( []), like this:"
   ]
  },
  {
   "cell_type": "code",
   "execution_count": 17,
   "metadata": {},
   "outputs": [
    {
     "name": "stdout",
     "output_type": "stream",
     "text": [
      "eye of newt\n"
     ]
    }
   ],
   "source": [
    "print(wizard_list[2])"
   ]
  },
  {
   "cell_type": "markdown",
   "metadata": {},
   "source": [
    "?????????\n",
    "\n",
    "Huh? Isn’t it the third item on the list? Yes, but lists start at index position 0, so the first item in a list is 0, the second is 1, and the third is 2. That may not make a lot of sense to humans, but it does to computers.\n",
    "\n",
    "The code below loops over the list and prints out the index value and the text value for each member - we'll talk about lists later."
   ]
  },
  {
   "cell_type": "code",
   "execution_count": 22,
   "metadata": {},
   "outputs": [
    {
     "name": "stdout",
     "output_type": "stream",
     "text": [
      "Index 0 has a value: spider legs\n",
      "Index 1 has a value: toe of frog\n",
      "Index 2 has a value: eye of newt\n",
      "Index 3 has a value: bat wing\n",
      "Index 4 has a value: slug butter\n",
      "Index 5 has a value: snake dandruff\n"
     ]
    }
   ],
   "source": [
    "for index,item in enumerate(wizard_list):\n",
    "    print ('Index '+str(index)+ ' has a value: '+item)"
   ]
  },
  {
   "cell_type": "markdown",
   "metadata": {},
   "source": [
    "We can also change an item in a list much more easily than we could in a string. ­Perhaps instead of eye of newt we needed a snail tongue. Here’s how we would do that with our list:"
   ]
  },
  {
   "cell_type": "code",
   "execution_count": 23,
   "metadata": {},
   "outputs": [
    {
     "name": "stdout",
     "output_type": "stream",
     "text": [
      "['spider legs', 'toe of frog', 'snail tongue', 'bat wing', 'slug butter', 'snake dandruff']\n"
     ]
    }
   ],
   "source": [
    "wizard_list[2] = 'snail tongue'\n",
    "print(wizard_list)\n"
   ]
  },
  {
   "cell_type": "markdown",
   "metadata": {},
   "source": [
    "This sets the item in index position 2, previously eye of newt, to snail tongue.\n",
    "\n",
    "Another option is to show a subset of the items in the list. We do this by using a colon (:) inside square brackets. For example, enter the following to see the third to fifth items in a list (a brilliant set of ingredients for a lovely sandwich): \n"
   ]
  },
  {
   "cell_type": "code",
   "execution_count": 24,
   "metadata": {},
   "outputs": [
    {
     "name": "stdout",
     "output_type": "stream",
     "text": [
      "['snail tongue', 'bat wing', 'slug butter']\n"
     ]
    }
   ],
   "source": [
    "print(wizard_list[2:5])\n"
   ]
  },
  {
   "cell_type": "markdown",
   "metadata": {},
   "source": [
    "Writing [2:5] is the same as saying, **“show the items from index position 2 up to (but not including) index position 5”** —or in other words, items 2, 3, and 4.\n",
    "\n",
    "Lists can be used to store all sorts of items, like numbers:\n"
   ]
  },
  {
   "cell_type": "code",
   "execution_count": 25,
   "metadata": {
    "collapsed": true
   },
   "outputs": [],
   "source": [
    "some_numbers = [1, 2, 5, 10, 20]"
   ]
  },
  {
   "cell_type": "markdown",
   "metadata": {},
   "source": [
    "They can also hold strings:\n"
   ]
  },
  {
   "cell_type": "code",
   "execution_count": 26,
   "metadata": {
    "collapsed": true
   },
   "outputs": [],
   "source": [
    "some_strings = ['Which', 'Witch', 'Is', 'Which']"
   ]
  },
  {
   "cell_type": "markdown",
   "metadata": {},
   "source": [
    "They might have mixtures of numbers and strings:\n"
   ]
  },
  {
   "cell_type": "code",
   "execution_count": 27,
   "metadata": {},
   "outputs": [
    {
     "name": "stdout",
     "output_type": "stream",
     "text": [
      "['Why', 'was', 6, 'afraid', 'of', 7, 'because', 7, 8, 9]\n"
     ]
    }
   ],
   "source": [
    "numbers_and_strings = ['Why', 'was', 6, 'afraid', 'of', 7,'because', 7, 8, 9]\n",
    "print(numbers_and_strings)\n"
   ]
  },
  {
   "cell_type": "markdown",
   "metadata": {},
   "source": [
    "And lists might even store other lists:\n"
   ]
  },
  {
   "cell_type": "code",
   "execution_count": 28,
   "metadata": {},
   "outputs": [
    {
     "name": "stdout",
     "output_type": "stream",
     "text": [
      "[[1, 2, 3, 4], ['I', 'kicked', 'my', 'toe', 'and', 'it', 'is', 'sore']]\n"
     ]
    }
   ],
   "source": [
    "numbers = [1, 2, 3, 4]\n",
    "strings = ['I', 'kicked', 'my', 'toe', 'and', 'it', 'is', 'sore']\n",
    "mylist = [numbers, strings]\n",
    "print(mylist)\n"
   ]
  },
  {
   "cell_type": "markdown",
   "metadata": {},
   "source": [
    "This list-within-list example creates three variables: numbers with four numbers, strings with eight strings, and mylist using numbers and strings. The third list (mylist) has only two elements because it’s a list of variable names, not the contents of the variables.\n",
    "\n",
    "### Adding Items to a List\n",
    "\n",
    "To add items to a list, we use the append function. A function is a chunk of code that tells Python to do something. In this case, append adds an item to the end of a list.\n",
    "\n",
    "For example, to add a bear burp (I’m sure there is such a thing) to the wizard’s shopping list, do this:\n",
    "\n"
   ]
  },
  {
   "cell_type": "code",
   "execution_count": 29,
   "metadata": {},
   "outputs": [
    {
     "name": "stdout",
     "output_type": "stream",
     "text": [
      "['spider legs', 'toe of frog', 'snail tongue', 'bat wing', 'slug butter', 'snake dandruff', 'bear burp']\n"
     ]
    }
   ],
   "source": [
    "wizard_list.append('bear burp')\n",
    "print(wizard_list)\n"
   ]
  },
  {
   "cell_type": "markdown",
   "metadata": {},
   "source": [
    "You can keep adding more magical items to the wizard’s list in the same way, like so:\n"
   ]
  },
  {
   "cell_type": "code",
   "execution_count": 31,
   "metadata": {},
   "outputs": [
    {
     "name": "stdout",
     "output_type": "stream",
     "text": [
      "['spider legs', 'toe of frog', 'snail tongue', 'bat wing', 'slug butter', 'snake dandruff', 'bear burp', 'mandrake', 'hemlock', 'swamp gas']\n"
     ]
    }
   ],
   "source": [
    "wizard_list.append('mandrake')\n",
    "wizard_list.append('hemlock')\n",
    "wizard_list.append('swamp gas')\n",
    "print(wizard_list)"
   ]
  },
  {
   "cell_type": "markdown",
   "metadata": {},
   "source": [
    "### Removing Items from a List\n",
    "\n",
    "To remove items from a list, use the del command (short for delete). For example, to remove the sixth item in the wizard’s list, snake dandruff, do this:\n",
    "\n",
    "\n",
    "\n",
    "Remember that positions start at zero, so wizard_list[5] actually refers to the sixth item in the list.\n",
    "\n"
   ]
  },
  {
   "cell_type": "code",
   "execution_count": 32,
   "metadata": {},
   "outputs": [
    {
     "name": "stdout",
     "output_type": "stream",
     "text": [
      "['spider legs', 'toe of frog', 'snail tongue', 'bat wing', 'slug butter', 'bear burp', 'mandrake', 'hemlock', 'swamp gas']\n"
     ]
    }
   ],
   "source": [
    "del wizard_list[5]\n",
    "\n",
    "print(wizard_list)"
   ]
  },
  {
   "cell_type": "markdown",
   "metadata": {},
   "source": [
    "But what happens if you don't know the index location of a list item? Lets remind ourselves of the list items and their index numbers:"
   ]
  },
  {
   "cell_type": "code",
   "execution_count": 34,
   "metadata": {},
   "outputs": [
    {
     "name": "stdout",
     "output_type": "stream",
     "text": [
      "Index 0 has a value: spider legs\n",
      "Index 1 has a value: toe of frog\n",
      "Index 2 has a value: snail tongue\n",
      "Index 3 has a value: bat wing\n",
      "Index 4 has a value: slug butter\n",
      "Index 5 has a value: bear burp\n",
      "Index 6 has a value: mandrake\n",
      "Index 7 has a value: hemlock\n",
      "Index 8 has a value: swamp gas\n"
     ]
    }
   ],
   "source": [
    "for index,item in enumerate(wizard_list):\n",
    "    print ('Index '+str(index)+ ' has a value: '+item)"
   ]
  },
  {
   "cell_type": "markdown",
   "metadata": {},
   "source": [
    "How do we find the index number of 'hemlock'? the index function returns the index number of an item:"
   ]
  },
  {
   "cell_type": "code",
   "execution_count": 35,
   "metadata": {},
   "outputs": [
    {
     "data": {
      "text/plain": [
       "7"
      ]
     },
     "execution_count": 35,
     "metadata": {},
     "output_type": "execute_result"
    }
   ],
   "source": [
    "wizard_list.index('hemlock')"
   ]
  },
  {
   "cell_type": "markdown",
   "metadata": {},
   "source": [
    "So if we wanted to delete hemlock from the list we can do the following:"
   ]
  },
  {
   "cell_type": "code",
   "execution_count": 36,
   "metadata": {},
   "outputs": [
    {
     "name": "stdout",
     "output_type": "stream",
     "text": [
      "['spider legs', 'toe of frog', 'snail tongue', 'bat wing', 'slug butter', 'bear burp', 'mandrake', 'swamp gas']\n"
     ]
    }
   ],
   "source": [
    "del wizard_list[wizard_list.index('hemlock')]\n",
    "\n",
    "print(wizard_list)"
   ]
  },
  {
   "cell_type": "markdown",
   "metadata": {},
   "source": [
    "### List Arithmetic\n",
    "\n",
    "We can join lists by adding them, just like adding numbers, using a plus ( +) sign. For example, suppose we have two lists: list1, con- taining the numbers 1 through 4, and list2, containing some words. We can add them using print and the + sign, like so:\n"
   ]
  },
  {
   "cell_type": "code",
   "execution_count": 37,
   "metadata": {},
   "outputs": [
    {
     "name": "stdout",
     "output_type": "stream",
     "text": [
      "[1, 2, 3, 4, 'I', 'tripped', 'over', 'and', 'hit', 'the', 'floor']\n"
     ]
    }
   ],
   "source": [
    "list1 = [1, 2, 3, 4]\n",
    "list2 = ['I', 'tripped', 'over', 'and', 'hit', 'the', 'floor']\n",
    "print(list1 + list2)\n"
   ]
  },
  {
   "cell_type": "markdown",
   "metadata": {},
   "source": [
    "We can also add the two lists and set the result equal to another variable.\n"
   ]
  },
  {
   "cell_type": "code",
   "execution_count": 38,
   "metadata": {},
   "outputs": [
    {
     "name": "stdout",
     "output_type": "stream",
     "text": [
      "[1, 2, 3, 4, 'I', 'ate', 'chocolate', 'and', 'I', 'want', 'more']\n"
     ]
    }
   ],
   "source": [
    "list1 = [1, 2, 3, 4]\n",
    "list2 = ['I', 'ate', 'chocolate', 'and', 'I', 'want', 'more']\n",
    "list3 = list1 + list2\n",
    "print(list3)\n"
   ]
  },
  {
   "cell_type": "markdown",
   "metadata": {},
   "source": [
    "And we can multiply a list by a number. For example, to multiply list1 by 5, we write list1 * 5:\n"
   ]
  },
  {
   "cell_type": "code",
   "execution_count": 39,
   "metadata": {},
   "outputs": [
    {
     "name": "stdout",
     "output_type": "stream",
     "text": [
      "[1, 2, 1, 2, 1, 2, 1, 2, 1, 2]\n"
     ]
    }
   ],
   "source": [
    "list1 = [1, 2]\n",
    "print(list1 * 5)\n"
   ]
  },
  {
   "cell_type": "markdown",
   "metadata": {},
   "source": [
    "**On the other hand, division ( /) and subtraction (-) give only errors.**\n",
    "\n",
    "But why? Well, joining lists with + and repeating lists with * are straightforward enough operations. These concepts also make sense in the real world. For example, if I were to hand you two paper shopping lists and say, “Add these two lists,” you might write out all the items on another sheet of paper in order, end to end. The same might be true if I said, “Multiply this list by 3.” You could imagine writing a list of all of the list’s items three times on another sheet of paper. \n",
    "\n",
    "But how would you divide a list? For example, consider how you would divide a list of six numbers (1 through 6) in two. Would we divide the list in the middle, split it after the first item, or just pick some random place and divide it there? There’s no simple answer, and when you ask Python to divide a list, it doesn’t know what to do, either. That’s why it responds with an error. "
   ]
  },
  {
   "cell_type": "markdown",
   "metadata": {},
   "source": [
    "## Tuples\n",
    "\n",
    "A tuple is like a list that uses parentheses, as in this example:\n"
   ]
  },
  {
   "cell_type": "code",
   "execution_count": 40,
   "metadata": {},
   "outputs": [
    {
     "name": "stdout",
     "output_type": "stream",
     "text": [
      "2\n"
     ]
    }
   ],
   "source": [
    "fibs = (0, 1, 1, 2, 3)\n",
    "print(fibs[3])"
   ]
  },
  {
   "cell_type": "markdown",
   "metadata": {},
   "source": [
    "Here we define the variable fibs as the numbers 0, 1, 1, 2, and 3. Then, as with a list, we print the item in index position 3 in the tuple using print(fibs[3]).\n",
    "\n",
    "The main difference between a tuple and a list is that a tuple cannot change once you’ve created it. For example, if we try to replace the first value in the tuple fibs with the number 4 ( just as we replaced values in our wizard_list), we get an error message:"
   ]
  },
  {
   "cell_type": "code",
   "execution_count": 41,
   "metadata": {},
   "outputs": [
    {
     "ename": "TypeError",
     "evalue": "'tuple' object does not support item assignment",
     "output_type": "error",
     "traceback": [
      "\u001b[0;31m---------------------------------------------------------------------------\u001b[0m",
      "\u001b[0;31mTypeError\u001b[0m                                 Traceback (most recent call last)",
      "\u001b[0;32m<ipython-input-41-534ec6fecf23>\u001b[0m in \u001b[0;36m<module>\u001b[0;34m()\u001b[0m\n\u001b[0;32m----> 1\u001b[0;31m \u001b[0mfibs\u001b[0m\u001b[0;34m[\u001b[0m\u001b[0;36m0\u001b[0m\u001b[0;34m]\u001b[0m \u001b[0;34m=\u001b[0m \u001b[0;36m4\u001b[0m\u001b[0;34m\u001b[0m\u001b[0m\n\u001b[0m",
      "\u001b[0;31mTypeError\u001b[0m: 'tuple' object does not support item assignment"
     ]
    }
   ],
   "source": [
    "fibs[0] = 4"
   ]
  },
  {
   "cell_type": "markdown",
   "metadata": {},
   "source": [
    "Why would you use a tuple instead of a list? Basically because sometimes it is useful to use something that you know can never change. If you create a tuple with two elements inside, it will always have those two elements inside.\n"
   ]
  },
  {
   "cell_type": "markdown",
   "metadata": {},
   "source": [
    "## Python Maps Won’t Help You Find Your Way\n",
    "\n",
    "In Python, a map (also referred to as a dict, short for dictionary) is a collection of things, like lists and tuples. The difference between maps and lists or tuples is that each item in a map has a key and a corresponding value.\n",
    "\n",
    "For example, say we have a list of people and their favorite sports. We could put this information into a Python list, with the person’s name followed by their sport, like so:\n"
   ]
  },
  {
   "cell_type": "code",
   "execution_count": 43,
   "metadata": {},
   "outputs": [
    {
     "name": "stdout",
     "output_type": "stream",
     "text": [
      "['Ralph Williams, Football', 'Michael Tippett, Basketball', 'Edward Elgar, Baseball', 'Rebecca Clarke, Netball', 'Ethel Smyth, Badminton', 'Frank Bridge, Rugby']\n"
     ]
    }
   ],
   "source": [
    "favorite_sports = ['Ralph Williams, Football',\n",
    "'Michael Tippett, Basketball',\n",
    "'Edward Elgar, Baseball',\n",
    "'Rebecca Clarke, Netball',\n",
    "'Ethel Smyth, Badminton',\n",
    "'Frank Bridge, Rugby']\n",
    "print(favorite_sports)"
   ]
  },
  {
   "cell_type": "markdown",
   "metadata": {},
   "source": [
    "If I asked you what Rebecca Clarke’s favorite sport is, you could skim through that list and find the answer is netball. But what if the list included 100 (or many more) people? \n",
    "\n",
    "Now, if we store this same information in a map, with the person’s name as the key and their favorite sport as the value, the Python code would look like this: "
   ]
  },
  {
   "cell_type": "code",
   "execution_count": 44,
   "metadata": {},
   "outputs": [
    {
     "name": "stdout",
     "output_type": "stream",
     "text": [
      "{'Ralph Williams': 'Football', 'Michael Tippett': 'Basketball', 'Edward Elgar': 'Baseball', 'Rebecca Clarke': 'Netball', 'Ethel Smyth': 'Badminton', 'Frank Bridge': 'Rugby'}\n"
     ]
    }
   ],
   "source": [
    "favorite_sports = {'Ralph Williams' : 'Football',\n",
    "'Michael Tippett' : 'Basketball',\n",
    "'Edward Elgar' : 'Baseball',\n",
    "'Rebecca Clarke' : 'Netball',\n",
    "'Ethel Smyth' : 'Badminton',\n",
    "'Frank Bridge' : 'Rugby'}\n",
    "print(favorite_sports)"
   ]
  },
  {
   "cell_type": "markdown",
   "metadata": {},
   "source": [
    "We use colons to separate each key from its value, and each key and value is surrounded by single quotes. Notice, too, that the items in a map are enclosed in braces ( {}), not parentheses or square brackets. \n",
    "\n",
    "The result is a map (each key maps to a particular value), as shown in Table 3-1.\n",
    "\n",
    "Table 3-1: Keys Pointing to Values in a Map of Favorite Sports\n",
    "\n",
    "Key|Value\n",
    "----|----\n",
    "Ralph Williams|Football\n",
    "Michael Tippett|Basketball\n",
    "Edward Elgar|Baseball\n",
    "Rebecca Clarke|Netball\n",
    "Ethel Smyth|Badminton\n",
    "Frank Bridge|Rugby\n",
    "\n",
    "Now, to get Rebecca Clarke’s favorite sport, we access our map favorite_sports using her name as the key, like so:\n"
   ]
  },
  {
   "cell_type": "code",
   "execution_count": 45,
   "metadata": {},
   "outputs": [
    {
     "name": "stdout",
     "output_type": "stream",
     "text": [
      "Netball\n"
     ]
    }
   ],
   "source": [
    "print(favorite_sports['Rebecca Clarke'])\n"
   ]
  },
  {
   "cell_type": "markdown",
   "metadata": {},
   "source": [
    "To delete a value in a map, use its key. For example, here’s how to remove Ethel Smyth:\n"
   ]
  },
  {
   "cell_type": "code",
   "execution_count": 47,
   "metadata": {},
   "outputs": [
    {
     "name": "stdout",
     "output_type": "stream",
     "text": [
      "{'Ralph Williams': 'Football', 'Michael Tippett': 'Basketball', 'Edward Elgar': 'Baseball', 'Rebecca Clarke': 'Netball', 'Frank Bridge': 'Rugby'}\n"
     ]
    }
   ],
   "source": [
    "del favorite_sports['Ethel Smyth']\n",
    "print(favorite_sports)\n"
   ]
  },
  {
   "cell_type": "markdown",
   "metadata": {},
   "source": [
    "To replace a value in a map, we also use its key:\n"
   ]
  },
  {
   "cell_type": "code",
   "execution_count": 48,
   "metadata": {},
   "outputs": [
    {
     "name": "stdout",
     "output_type": "stream",
     "text": [
      "{'Ralph Williams': 'Football', 'Michael Tippett': 'Basketball', 'Edward Elgar': 'Baseball', 'Rebecca Clarke': 'Netball', 'Frank Bridge': 'Rugby'}\n",
      "{'Ralph Williams': 'Ice Hockey', 'Michael Tippett': 'Basketball', 'Edward Elgar': 'Baseball', 'Rebecca Clarke': 'Netball', 'Frank Bridge': 'Rugby'}\n"
     ]
    }
   ],
   "source": [
    "print(favorite_sports)\n",
    "favorite_sports['Ralph Williams'] = 'Ice Hockey'\n",
    "print(favorite_sports)\n"
   ]
  },
  {
   "cell_type": "code",
   "execution_count": 53,
   "metadata": {},
   "outputs": [
    {
     "name": "stdout",
     "output_type": "stream",
     "text": [
      "{'Ralph Williams': 'Ice Hockey', 'Michael Tippett': 'Basketball', 'Edward Elgar': 'Baseball', 'Rebecca Clarke': 'Netball', 'Frank Bridge': 'Rugby'}\n"
     ]
    }
   ],
   "source": [
    "x = {'a': 1, 'b': 2}\n",
    "y = {'b': 3, 'c': 4}\n",
    "z = {**x, **y}\n",
    "print(z)"
   ]
  },
  {
   "cell_type": "markdown",
   "metadata": {},
   "source": [
    "## Programming Puzzles \n",
    "\n",
    "The following are a few experiments you can try yourself. The answers can be found at http://python-for-kids.com/. \n",
    "\n",
    "### 1: Favorites \n",
    "\n",
    "Make a list of your favorite hobbies and give the list the variable name games. Now make a list of your favorite foods and name the variable foods. Join the two lists and name the result favorites. Finally, print the variable favorites. \n",
    "\n"
   ]
  },
  {
   "cell_type": "code",
   "execution_count": null,
   "metadata": {
    "collapsed": true
   },
   "outputs": [],
   "source": []
  },
  {
   "cell_type": "markdown",
   "metadata": {},
   "source": [
    "### 2: Counting Combatants \n",
    "\n",
    "If there are 3 buildings with 25 ninjas hiding on each roof and 2 tunnels with 40 samurai hiding inside each tunnel, how many ninjas and samurai are about to do battle? (You can do this with one equation in the Python shell.) \n",
    "\n"
   ]
  },
  {
   "cell_type": "code",
   "execution_count": null,
   "metadata": {
    "collapsed": true
   },
   "outputs": [],
   "source": []
  },
  {
   "cell_type": "markdown",
   "metadata": {},
   "source": [
    "### 3: Greetings! \n",
    "\n",
    "Create two variables: one that points to your first name and one that points to your last name. Now create a string and use placeholders to print your name with a message using those two variables, such as “Hi there, Brando Ickett!” "
   ]
  },
  {
   "cell_type": "code",
   "execution_count": null,
   "metadata": {
    "collapsed": true
   },
   "outputs": [],
   "source": []
  }
 ],
 "metadata": {
  "kernelspec": {
   "display_name": "Python 3",
   "language": "python",
   "name": "python3"
  },
  "language_info": {
   "codemirror_mode": {
    "name": "ipython",
    "version": 3
   },
   "file_extension": ".py",
   "mimetype": "text/x-python",
   "name": "python",
   "nbconvert_exporter": "python",
   "pygments_lexer": "ipython3",
   "version": "3.6.1"
  }
 },
 "nbformat": 4,
 "nbformat_minor": 2
}
